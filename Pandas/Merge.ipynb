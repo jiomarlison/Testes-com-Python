{
 "cells": [
  {
   "cell_type": "code",
   "execution_count": 1,
   "id": "bbfb27f2",
   "metadata": {},
   "outputs": [],
   "source": [
    "import pandas as pd\n",
    "tabela = pd.DataFrame({'Numero': [1, 2, 3, 4, 5, 6, 7],\n",
    "                       'Nome':   ['a', 'b', 'c', 'd', 'e', 'f', 'g'],\n",
    "                       'Time':   ['red', 'red', 'green', 'green', 'blue', 'blue', 'white']})\n",
    "tabela2 = pd.DataFrame({'Numero': [1, 2, 3, 4, 5, 6, 7],\n",
    "                       'Nome':   ['h', 'i', 'j', 'k', 'l', 'm', 'n'],\n",
    "                       'Time':   ['orange', 'orange', 'cyan', 'cyan', 'magenta', 'magenta', 'black']})\n",
    "\n",
    "\n",
    "# display(tabela)\n",
    "# display(tabela2)\n",
    "tabela3 = tabela.merge(tabela2, how='inner', on='Numero', suffixes=(' Sala A', ' Sala B'))\n",
    "# display(tabela3.head(5))\n",
    "tabela4 = tabela.merge(tabela2, how='cross', suffixes=(' Sala A', ' Sala B'))\n",
    "# display(tabela4.head(5))\n",
    "tabela5 = tabela.merge(tabela2, how='outer', suffixes=(' Sala A', ' Sala B'))\n",
    "# display(tabela5.head(5))\n"
   ]
  },
  {
   "cell_type": "code",
   "execution_count": 36,
   "id": "a88a25b5",
   "metadata": {},
   "outputs": [],
   "source": [
    "# df1.merge(df2, left_on='lkey', right_on='rkey')\n"
   ]
  },
  {
   "cell_type": "code",
   "execution_count": 37,
   "id": "ccea6229",
   "metadata": {},
   "outputs": [],
   "source": [
    "# df1.merge(df2, left_on='lkey', right_on='rkey',suffixes=('_left', '_right'))\n"
   ]
  },
  {
   "cell_type": "code",
   "execution_count": 5,
   "id": "1b3d0c09",
   "metadata": {},
   "outputs": [],
   "source": [
    "df1 = pd.DataFrame({'a': ['foo', 'bar'], 'b': [1, 2]})\n",
    "df2 = pd.DataFrame({'a': ['foo', 'baz'], 'c': [3, 4]})\n",
    "# display(df1)\n",
    "# display(df2)\n",
    "\n",
    "df3 = df1.merge(df2, how='inner', on='a')\n",
    "# display(df3)\n",
    "\n",
    "df4 = df1.merge(df2, how='left', on='a')\n",
    "# display(df4)"
   ]
  },
  {
   "cell_type": "code",
   "execution_count": 2,
   "id": "89c21136",
   "metadata": {},
   "outputs": [],
   "source": [
    "df1 = pd.DataFrame({'left': ['foo', 'bar']})\n",
    "df2 = pd.DataFrame({'right': [7, 8]})\n",
    "df5 = df1.merge(df2, how='cross')\n",
    "# display(df5)"
   ]
  },
  {
   "cell_type": "code",
   "execution_count": null,
   "id": "09e4c164",
   "metadata": {},
   "outputs": [],
   "source": [
    "tabela = pd.DataFrame({'Nome':   ['a', 'b', 'c', 'd', 'e', 'f', 'g'],\n",
    "                       'Time':   ['red', 'red', 'green', 'green', 'blue', 'blue', 'white']})\n",
    "tabela2 = pd.DataFrame({'Nome':   ['h', 'i', 'j', 'k', 'l', 'm', 'n'],\n",
    "                       'Time':   ['orange', 'orange', 'cyan', 'cyan', 'magenta', 'magenta', 'black']})\n"
   ]
  }
 ],
 "metadata": {
  "kernelspec": {
   "display_name": "Python 3 (ipykernel)",
   "language": "python",
   "name": "python3"
  },
  "language_info": {
   "codemirror_mode": {
    "name": "ipython",
    "version": 3
   },
   "file_extension": ".py",
   "mimetype": "text/x-python",
   "name": "python",
   "nbconvert_exporter": "python",
   "pygments_lexer": "ipython3",
   "version": "3.9.13"
  }
 },
 "nbformat": 4,
 "nbformat_minor": 5
}
