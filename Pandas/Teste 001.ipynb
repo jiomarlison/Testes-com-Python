{
 "cells": [
  {
   "cell_type": "code",
   "execution_count": 65,
   "id": "c1dbc502",
   "metadata": {},
   "outputs": [],
   "source": [
    "import pandas as pd\n",
    "import datetime as dt\n",
    "meses = ['JAN', 'FEV', 'MAR', 'ABR', 'MAI', 'JUN', 'JUL', 'AGO', 'SET', 'OUT', 'NOV', 'DEZ']\n"
   ]
  },
  {
   "cell_type": "code",
   "execution_count": 66,
   "id": "fa48a181",
   "metadata": {},
   "outputs": [],
   "source": [
    "# LÊ A TABELA\n",
    "tabela = pd.read_excel('vendas.xlsx')\n",
    "# CONVERTE A COLUNA 'DATA' PARA O FORMATO DE DATA\n",
    "tabela['DATA'] = pd.to_datetime(tabela['DATA'])"
   ]
  },
  {
   "cell_type": "code",
   "execution_count": 67,
   "id": "0f570c15",
   "metadata": {},
   "outputs": [
    {
     "name": "stdout",
     "output_type": "stream",
     "text": [
      "[2015, 2016, 2017, 2018, 2019, 2020, 2021, 2022]\n"
     ]
    }
   ],
   "source": [
    "# CRIA UMA LISTA COM OS ANOS DA COLUNA DATA DA TABELA E REMOVE AS DUPLICATAS\n",
    "anos_tabela = tabela['DATA'].dt.year\n",
    "lista_anos = []\n",
    "for _ in range(len(anos_tabela)):\n",
    "    if anos_tabela[_] not in lista_anos:\n",
    "        lista_anos.append(anos_tabela[_])\n",
    "print(lista_anos)"
   ]
  },
  {
   "cell_type": "code",
   "execution_count": 68,
   "id": "920d493d",
   "metadata": {},
   "outputs": [
    {
     "data": {
      "text/plain": [
       "PEDIDO\n",
       "BIQUINI      4273\n",
       "BONE         5004\n",
       "CAMISA       2141\n",
       "CUECA BOX    8720\n",
       "SANDALIA     4147\n",
       "SHORT        4615\n",
       "TOALHA       4897\n",
       "Name: TOTAL, dtype: int64"
      ]
     },
     "metadata": {},
     "output_type": "display_data"
    }
   ],
   "source": [
    "tabela['ANO'] = tabela['DATA'].dt.year\n",
    "tabela['MES'] = tabela['DATA'].dt.month\n",
    "\n",
    "display(tabela.groupby(by=['PEDIDO'])['TOTAL'].sum())"
   ]
  },
  {
   "cell_type": "code",
   "execution_count": 87,
   "id": "a70e5c23",
   "metadata": {},
   "outputs": [
    {
     "data": {
      "text/html": [
       "<div>\n",
       "<style scoped>\n",
       "    .dataframe tbody tr th:only-of-type {\n",
       "        vertical-align: middle;\n",
       "    }\n",
       "\n",
       "    .dataframe tbody tr th {\n",
       "        vertical-align: top;\n",
       "    }\n",
       "\n",
       "    .dataframe thead th {\n",
       "        text-align: right;\n",
       "    }\n",
       "</style>\n",
       "<table border=\"1\" class=\"dataframe\">\n",
       "  <thead>\n",
       "    <tr style=\"text-align: right;\">\n",
       "      <th></th>\n",
       "      <th>2015</th>\n",
       "      <th>2016</th>\n",
       "      <th>2017</th>\n",
       "      <th>2018</th>\n",
       "      <th>2019</th>\n",
       "      <th>2020</th>\n",
       "      <th>2021</th>\n",
       "      <th>2022</th>\n",
       "    </tr>\n",
       "  </thead>\n",
       "  <tbody>\n",
       "    <tr>\n",
       "      <th>JAN</th>\n",
       "      <td>114.0</td>\n",
       "      <td>133.0</td>\n",
       "      <td>93.0</td>\n",
       "      <td>720.0</td>\n",
       "      <td>162.0</td>\n",
       "      <td>70.0</td>\n",
       "      <td>48.0</td>\n",
       "      <td>870.0</td>\n",
       "    </tr>\n",
       "    <tr>\n",
       "      <th>FEV</th>\n",
       "      <td>486.0</td>\n",
       "      <td>96.0</td>\n",
       "      <td>35.0</td>\n",
       "      <td>105.0</td>\n",
       "      <td>220.0</td>\n",
       "      <td>135.0</td>\n",
       "      <td>116.0</td>\n",
       "      <td>630.0</td>\n",
       "    </tr>\n",
       "    <tr>\n",
       "      <th>MAR</th>\n",
       "      <td>642.0</td>\n",
       "      <td>515.0</td>\n",
       "      <td>248.0</td>\n",
       "      <td>1001.0</td>\n",
       "      <td>512.0</td>\n",
       "      <td>574.0</td>\n",
       "      <td>848.0</td>\n",
       "      <td>110.0</td>\n",
       "    </tr>\n",
       "    <tr>\n",
       "      <th>ABR</th>\n",
       "      <td>485.0</td>\n",
       "      <td>210.0</td>\n",
       "      <td>74.0</td>\n",
       "      <td>715.0</td>\n",
       "      <td>1128.0</td>\n",
       "      <td>742.0</td>\n",
       "      <td>399.0</td>\n",
       "      <td>100.0</td>\n",
       "    </tr>\n",
       "    <tr>\n",
       "      <th>MAI</th>\n",
       "      <td>348.0</td>\n",
       "      <td>184.0</td>\n",
       "      <td>84.0</td>\n",
       "      <td>88.0</td>\n",
       "      <td>161.0</td>\n",
       "      <td>624.0</td>\n",
       "      <td>496.0</td>\n",
       "      <td>201.0</td>\n",
       "    </tr>\n",
       "    <tr>\n",
       "      <th>JUN</th>\n",
       "      <td>440.0</td>\n",
       "      <td>350.0</td>\n",
       "      <td>254.0</td>\n",
       "      <td>408.0</td>\n",
       "      <td>804.0</td>\n",
       "      <td>57.0</td>\n",
       "      <td>110.0</td>\n",
       "      <td>910.0</td>\n",
       "    </tr>\n",
       "    <tr>\n",
       "      <th>JUL</th>\n",
       "      <td>552.0</td>\n",
       "      <td>581.0</td>\n",
       "      <td>172.0</td>\n",
       "      <td>274.0</td>\n",
       "      <td>43.0</td>\n",
       "      <td>864.0</td>\n",
       "      <td>246.0</td>\n",
       "      <td>808.0</td>\n",
       "    </tr>\n",
       "    <tr>\n",
       "      <th>AGO</th>\n",
       "      <td>333.0</td>\n",
       "      <td>540.0</td>\n",
       "      <td>145.0</td>\n",
       "      <td>396.0</td>\n",
       "      <td>33.0</td>\n",
       "      <td>460.0</td>\n",
       "      <td>415.0</td>\n",
       "      <td>240.0</td>\n",
       "    </tr>\n",
       "    <tr>\n",
       "      <th>SET</th>\n",
       "      <td>26.0</td>\n",
       "      <td>750.0</td>\n",
       "      <td>80.0</td>\n",
       "      <td>45.0</td>\n",
       "      <td>84.0</td>\n",
       "      <td>280.0</td>\n",
       "      <td>29.0</td>\n",
       "      <td>74.0</td>\n",
       "    </tr>\n",
       "    <tr>\n",
       "      <th>OUT</th>\n",
       "      <td>475.0</td>\n",
       "      <td>415.0</td>\n",
       "      <td>28.0</td>\n",
       "      <td>220.0</td>\n",
       "      <td>111.0</td>\n",
       "      <td>472.0</td>\n",
       "      <td>72.0</td>\n",
       "      <td>206.0</td>\n",
       "    </tr>\n",
       "    <tr>\n",
       "      <th>NOV</th>\n",
       "      <td>434.0</td>\n",
       "      <td>450.0</td>\n",
       "      <td>195.0</td>\n",
       "      <td>870.0</td>\n",
       "      <td>294.0</td>\n",
       "      <td>200.0</td>\n",
       "      <td>384.0</td>\n",
       "      <td>470.0</td>\n",
       "    </tr>\n",
       "    <tr>\n",
       "      <th>DEZ</th>\n",
       "      <td>8.0</td>\n",
       "      <td>1048.0</td>\n",
       "      <td>138.0</td>\n",
       "      <td>645.0</td>\n",
       "      <td>47.0</td>\n",
       "      <td>330.0</td>\n",
       "      <td>384.0</td>\n",
       "      <td>576.0</td>\n",
       "    </tr>\n",
       "  </tbody>\n",
       "</table>\n",
       "</div>"
      ],
      "text/plain": [
       "      2015    2016   2017    2018    2019   2020   2021   2022\n",
       "JAN  114.0   133.0   93.0   720.0   162.0   70.0   48.0  870.0\n",
       "FEV  486.0    96.0   35.0   105.0   220.0  135.0  116.0  630.0\n",
       "MAR  642.0   515.0  248.0  1001.0   512.0  574.0  848.0  110.0\n",
       "ABR  485.0   210.0   74.0   715.0  1128.0  742.0  399.0  100.0\n",
       "MAI  348.0   184.0   84.0    88.0   161.0  624.0  496.0  201.0\n",
       "JUN  440.0   350.0  254.0   408.0   804.0   57.0  110.0  910.0\n",
       "JUL  552.0   581.0  172.0   274.0    43.0  864.0  246.0  808.0\n",
       "AGO  333.0   540.0  145.0   396.0    33.0  460.0  415.0  240.0\n",
       "SET   26.0   750.0   80.0    45.0    84.0  280.0   29.0   74.0\n",
       "OUT  475.0   415.0   28.0   220.0   111.0  472.0   72.0  206.0\n",
       "NOV  434.0   450.0  195.0   870.0   294.0  200.0  384.0  470.0\n",
       "DEZ    8.0  1048.0  138.0   645.0    47.0  330.0  384.0  576.0"
      ]
     },
     "execution_count": 87,
     "metadata": {},
     "output_type": "execute_result"
    }
   ],
   "source": [
    "# CRIA UM DATAFRAME COM A LISTA  DE ANOS CRIADA E OS MESES DO ANO\n",
    "for _ in range(len(lista_anos)):\n",
    "    relatorio = pd.DataFrame(columns=lista_anos, index=meses)\n",
    "\n",
    "i = 0\n",
    "for _ in range(12):\n",
    "    for i in range(len(lista_anos)):\n",
    "        valor = float(tabela.loc[tabela['MES'] == _+1].loc[tabela['ANO'] == lista_anos[i]]['TOTAL'])\n",
    "        relatorio.loc[meses[_], lista_anos[i]] = f\"{valor}\"\n",
    "        \n",
    "relatorio"
   ]
  },
  {
   "cell_type": "code",
   "execution_count": 80,
   "id": "f8566485",
   "metadata": {},
   "outputs": [],
   "source": [
    "# display(relatorio)\n",
    "# i = 0\n",
    "# for i in range(len(lista_anos)):\n",
    "#     for _ in range(12):\n",
    "#         print(f'Mês: {meses[_]}, Ano: {lista_anos[i]}, Valor: {relatorio.loc[meses[_], lista_anos[i]]}')\n"
   ]
  },
  {
   "cell_type": "code",
   "execution_count": 81,
   "id": "200f8311",
   "metadata": {},
   "outputs": [],
   "source": [
    "# for i in range(len(lista_anos)):\n",
    "#     print(f'ANO: {lista_anos[i]}, Quant. Total: ', relatorio.loc[meses, lista_anos[i]].sum())\n",
    "\n",
    "# for _ in range(12):\n",
    "#     tabela2 = tabela.loc[tabela['MES'] == _+1]\n",
    "#     display(tabela2)"
   ]
  },
  {
   "cell_type": "code",
   "execution_count": 82,
   "id": "3c7a2198",
   "metadata": {},
   "outputs": [],
   "source": [
    "# i = 0\n",
    "# for i in range(len(lista_anos)):\n",
    "#     for _ in range(12):\n",
    "#         MES_ANO = tabela.loc[tabela['MES'] == _+1].loc[tabela['ANO'] == lista_anos[i]]['TOTAL']\n",
    "#         print(MES_ANO)\n"
   ]
  },
  {
   "cell_type": "code",
   "execution_count": 84,
   "id": "69f3e8fd",
   "metadata": {},
   "outputs": [],
   "source": [
    "relatorio.to_excel(\"RELATORIO.xlsx\",sheet_name='TODOS OS ANOS')\n"
   ]
  },
  {
   "cell_type": "code",
   "execution_count": null,
   "id": "f26523e0",
   "metadata": {},
   "outputs": [],
   "source": []
  }
 ],
 "metadata": {
  "kernelspec": {
   "display_name": "Python 3 (ipykernel)",
   "language": "python",
   "name": "python3"
  },
  "language_info": {
   "codemirror_mode": {
    "name": "ipython",
    "version": 3
   },
   "file_extension": ".py",
   "mimetype": "text/x-python",
   "name": "python",
   "nbconvert_exporter": "python",
   "pygments_lexer": "ipython3",
   "version": "3.9.13"
  }
 },
 "nbformat": 4,
 "nbformat_minor": 5
}
