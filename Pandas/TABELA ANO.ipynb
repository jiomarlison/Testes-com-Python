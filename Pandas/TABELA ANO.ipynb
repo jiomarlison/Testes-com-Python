{
 "cells": [
  {
   "cell_type": "code",
   "execution_count": 2,
   "id": "c1dbc502",
   "metadata": {},
   "outputs": [],
   "source": [
    "import pandas as pd\n",
    "import datetime as dt\n",
    "meses = ['JAN', 'FEV', 'MAR', 'ABR', 'MAI', 'JUN', 'JUL', 'AGO', 'SET', 'OUT', 'NOV', 'DEZ']\n"
   ]
  },
  {
   "cell_type": "code",
   "execution_count": 3,
   "id": "fa48a181",
   "metadata": {},
   "outputs": [],
   "source": [
    "# LÊ A TABELA\n",
    "tabela = pd.read_excel('vendas.xlsx')\n",
    "# CONVERTE A COLUNA 'DATA' PARA O FORMATO DE DATA\n",
    "tabela['DATA'] = pd.to_datetime(tabela['DATA'])"
   ]
  },
  {
   "cell_type": "code",
   "execution_count": 4,
   "id": "0f570c15",
   "metadata": {},
   "outputs": [
    {
     "name": "stdout",
     "output_type": "stream",
     "text": [
      "[2015, 2016, 2017, 2018, 2019, 2020, 2021, 2022]\n"
     ]
    }
   ],
   "source": [
    "# CRIA UMA LISTA COM OS ANOS DA COLUNA DATA DA TABELA E REMOVE AS DUPLICATAS\n",
    "anos_tabela = tabela['DATA'].dt.year\n",
    "lista_anos = []\n",
    "for _ in range(len(anos_tabela)):\n",
    "    if anos_tabela[_] not in lista_anos:\n",
    "        lista_anos.append(anos_tabela[_])\n",
    "print(lista_anos)"
   ]
  },
  {
   "cell_type": "code",
   "execution_count": 5,
   "id": "8e93d0ef",
   "metadata": {},
   "outputs": [],
   "source": [
    "tabela['ANO'] = tabela['DATA'].dt.year\n",
    "tabela['MES'] = tabela['DATA'].dt.month\n",
    "# display(tabela.groupby(by=['PEDIDO'])['TOTAL'])"
   ]
  },
  {
   "cell_type": "code",
   "execution_count": 17,
   "id": "a70e5c23",
   "metadata": {},
   "outputs": [],
   "source": [
    "# CRIA UM DATAFRAME COM A LISTA  DE ANOS CRIADA E OS MESES DO ANO\n",
    "for _ in range(len(lista_anos)):\n",
    "    relatorio = pd.DataFrame(columns=lista_anos, index=meses)\n",
    "\n",
    "aumento = relatorio.copy()\n",
    "\n",
    "i = 0\n",
    "for _ in range(12):\n",
    "    for i in range(len(lista_anos)):\n",
    "        valor = tabela.loc[tabela['MES'] == _+1].loc[tabela['ANO'] == lista_anos[i]]['TOTAL']\n",
    "        valor = float(valor)\n",
    "\n",
    "        relatorio.loc[meses[_], lista_anos[i]] = f\"{valor}\"\n",
    "\n",
    "relatorio.to_excel(\"RELATORIO.xlsx\",sheet_name='TODOS OS ANOS')"
   ]
  },
  {
   "cell_type": "code",
   "execution_count": null,
   "id": "182b6d7c",
   "metadata": {},
   "outputs": [],
   "source": []
  },
  {
   "cell_type": "code",
   "execution_count": 37,
   "id": "f8566485",
   "metadata": {},
   "outputs": [],
   "source": [
    "# display(relatorio)\n",
    "# i = 0\n",
    "# for i in range(len(lista_anos)):\n",
    "#     for _ in range(12):\n",
    "#         print(f'Mês: {meses[_]}, Ano: {lista_anos[i]}, Valor: {relatorio.loc[meses[_], lista_anos[i]]}')\n"
   ]
  },
  {
   "cell_type": "code",
   "execution_count": 38,
   "id": "200f8311",
   "metadata": {},
   "outputs": [],
   "source": [
    "# for i in range(len(lista_anos)):\n",
    "#     print(f'ANO: {lista_anos[i]}, Quant. Total: ', relatorio.loc[meses, lista_anos[i]].sum())\n",
    "\n",
    "# for _ in range(12):\n",
    "#     tabela2 = tabela.loc[tabela['MES'] == _+1]\n",
    "#     display(tabela2)"
   ]
  },
  {
   "cell_type": "code",
   "execution_count": 39,
   "id": "3c7a2198",
   "metadata": {},
   "outputs": [],
   "source": [
    "# i = 0\n",
    "# for i in range(len(lista_anos)):\n",
    "#     for _ in range(12):\n",
    "#         MES_ANO = tabela.loc[tabela['MES'] == _+1].loc[tabela['ANO'] == lista_anos[i]]['TOTAL']\n",
    "#         print(MES_ANO)\n"
   ]
  }
 ],
 "metadata": {
  "kernelspec": {
   "display_name": "Python 3 (ipykernel)",
   "language": "python",
   "name": "python3"
  },
  "language_info": {
   "codemirror_mode": {
    "name": "ipython",
    "version": 3
   },
   "file_extension": ".py",
   "mimetype": "text/x-python",
   "name": "python",
   "nbconvert_exporter": "python",
   "pygments_lexer": "ipython3",
   "version": "3.9.13"
  }
 },
 "nbformat": 4,
 "nbformat_minor": 5
}
